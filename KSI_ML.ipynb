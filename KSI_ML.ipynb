{
 "cells": [
  {
   "cell_type": "markdown",
   "metadata": {},
   "source": [
    "# Task"
   ]
  },
  {
   "cell_type": "markdown",
   "metadata": {},
   "source": [
    "This data set is a original version of the Killed or Seriously Injured (KSI) traffic accident reports from the City of Toronto Police Open Data portal.\n",
    "\n",
    "It contains information for all traffic accidents reported between 2007 and 2017.\n",
    "\n",
    "The task here is to figure out the best Classification algorithm to predict whether an accident will cause-\n",
    "1. Fatal\n",
    "2. Non-Fatal injury \n",
    "3. Damage to Property\n",
    "\n",
    "based on the features in the given data."
   ]
  },
  {
   "cell_type": "markdown",
   "metadata": {},
   "source": [
    "### Dataset and Cleaning"
   ]
  },
  {
   "cell_type": "code",
   "execution_count": 1,
   "metadata": {},
   "outputs": [],
   "source": [
    "import pandas as pd\n",
    "import numpy as np"
   ]
  },
  {
   "cell_type": "code",
   "execution_count": 2,
   "metadata": {},
   "outputs": [],
   "source": [
    "data_orig= pd.read_csv('KSI.csv')"
   ]
  },
  {
   "cell_type": "code",
   "execution_count": 3,
   "metadata": {
    "scrolled": true
   },
   "outputs": [
    {
     "data": {
      "text/html": [
       "<div>\n",
       "<style scoped>\n",
       "    .dataframe tbody tr th:only-of-type {\n",
       "        vertical-align: middle;\n",
       "    }\n",
       "\n",
       "    .dataframe tbody tr th {\n",
       "        vertical-align: top;\n",
       "    }\n",
       "\n",
       "    .dataframe thead th {\n",
       "        text-align: right;\n",
       "    }\n",
       "</style>\n",
       "<table border=\"1\" class=\"dataframe\">\n",
       "  <thead>\n",
       "    <tr style=\"text-align: right;\">\n",
       "      <th></th>\n",
       "      <th>X</th>\n",
       "      <th>Y</th>\n",
       "      <th>Index_</th>\n",
       "      <th>ACCNUM</th>\n",
       "      <th>YEAR</th>\n",
       "      <th>DATE</th>\n",
       "      <th>TIME</th>\n",
       "      <th>Hour</th>\n",
       "      <th>STREET1</th>\n",
       "      <th>STREET2</th>\n",
       "      <th>...</th>\n",
       "      <th>AG_DRIV</th>\n",
       "      <th>REDLIGHT</th>\n",
       "      <th>ALCOHOL</th>\n",
       "      <th>DISABILITY</th>\n",
       "      <th>Division</th>\n",
       "      <th>Ward_Name</th>\n",
       "      <th>Ward_ID</th>\n",
       "      <th>Hood_ID</th>\n",
       "      <th>Hood_Name</th>\n",
       "      <th>FID</th>\n",
       "    </tr>\n",
       "  </thead>\n",
       "  <tbody>\n",
       "    <tr>\n",
       "      <th>0</th>\n",
       "      <td>-79.383490</td>\n",
       "      <td>43.651545</td>\n",
       "      <td>6666068</td>\n",
       "      <td>1249781</td>\n",
       "      <td>2011</td>\n",
       "      <td>2011-08-04T04:00:00.000Z</td>\n",
       "      <td>2318</td>\n",
       "      <td>23</td>\n",
       "      <td>QUEEN ST W</td>\n",
       "      <td>YORK ST</td>\n",
       "      <td>...</td>\n",
       "      <td></td>\n",
       "      <td></td>\n",
       "      <td></td>\n",
       "      <td></td>\n",
       "      <td>D52</td>\n",
       "      <td>Toronto Centre-Rosedale (27)</td>\n",
       "      <td>27</td>\n",
       "      <td>76</td>\n",
       "      <td>Bay Street Corridor (76)</td>\n",
       "      <td>12001</td>\n",
       "    </tr>\n",
       "    <tr>\n",
       "      <th>1</th>\n",
       "      <td>-79.300490</td>\n",
       "      <td>43.780445</td>\n",
       "      <td>7542240</td>\n",
       "      <td>1311542</td>\n",
       "      <td>2012</td>\n",
       "      <td>2012-08-19T04:00:00.000Z</td>\n",
       "      <td>2318</td>\n",
       "      <td>23</td>\n",
       "      <td>SHEPPARD AVE E</td>\n",
       "      <td>AMETHYST RD</td>\n",
       "      <td>...</td>\n",
       "      <td>Yes</td>\n",
       "      <td></td>\n",
       "      <td></td>\n",
       "      <td></td>\n",
       "      <td>D42</td>\n",
       "      <td>Scarborough-Agincourt (40)</td>\n",
       "      <td>40</td>\n",
       "      <td>118</td>\n",
       "      <td>Tam O'Shanter-Sullivan (118)</td>\n",
       "      <td>12002</td>\n",
       "    </tr>\n",
       "    <tr>\n",
       "      <th>2</th>\n",
       "      <td>-79.328266</td>\n",
       "      <td>43.682342</td>\n",
       "      <td>80496257</td>\n",
       "      <td>5002235651</td>\n",
       "      <td>2015</td>\n",
       "      <td>2015-12-30T05:00:00.000Z</td>\n",
       "      <td>2339</td>\n",
       "      <td>23</td>\n",
       "      <td>DANFORTH AVE</td>\n",
       "      <td>GILLARD AVE</td>\n",
       "      <td>...</td>\n",
       "      <td>Yes</td>\n",
       "      <td></td>\n",
       "      <td></td>\n",
       "      <td></td>\n",
       "      <td>D55</td>\n",
       "      <td>Toronto-Danforth (30)</td>\n",
       "      <td>30</td>\n",
       "      <td>65</td>\n",
       "      <td>Greenwood-Coxwell (65)</td>\n",
       "      <td>12003</td>\n",
       "    </tr>\n",
       "    <tr>\n",
       "      <th>3</th>\n",
       "      <td>-79.300490</td>\n",
       "      <td>43.780445</td>\n",
       "      <td>7542241</td>\n",
       "      <td>1311542</td>\n",
       "      <td>2012</td>\n",
       "      <td>2012-08-19T04:00:00.000Z</td>\n",
       "      <td>2318</td>\n",
       "      <td>23</td>\n",
       "      <td>SHEPPARD AVE E</td>\n",
       "      <td>AMETHYST RD</td>\n",
       "      <td>...</td>\n",
       "      <td>Yes</td>\n",
       "      <td></td>\n",
       "      <td></td>\n",
       "      <td></td>\n",
       "      <td>D42</td>\n",
       "      <td>Scarborough-Agincourt (40)</td>\n",
       "      <td>40</td>\n",
       "      <td>118</td>\n",
       "      <td>Tam O'Shanter-Sullivan (118)</td>\n",
       "      <td>12004</td>\n",
       "    </tr>\n",
       "    <tr>\n",
       "      <th>4</th>\n",
       "      <td>-79.300490</td>\n",
       "      <td>43.780445</td>\n",
       "      <td>7542242</td>\n",
       "      <td>1311542</td>\n",
       "      <td>2012</td>\n",
       "      <td>2012-08-19T04:00:00.000Z</td>\n",
       "      <td>2318</td>\n",
       "      <td>23</td>\n",
       "      <td>SHEPPARD AVE E</td>\n",
       "      <td>AMETHYST RD</td>\n",
       "      <td>...</td>\n",
       "      <td>Yes</td>\n",
       "      <td></td>\n",
       "      <td></td>\n",
       "      <td></td>\n",
       "      <td>D42</td>\n",
       "      <td>Scarborough-Agincourt (40)</td>\n",
       "      <td>40</td>\n",
       "      <td>118</td>\n",
       "      <td>Tam O'Shanter-Sullivan (118)</td>\n",
       "      <td>12005</td>\n",
       "    </tr>\n",
       "  </tbody>\n",
       "</table>\n",
       "<p>5 rows × 57 columns</p>\n",
       "</div>"
      ],
      "text/plain": [
       "           X          Y    Index_      ACCNUM  YEAR                      DATE  \\\n",
       "0 -79.383490  43.651545   6666068     1249781  2011  2011-08-04T04:00:00.000Z   \n",
       "1 -79.300490  43.780445   7542240     1311542  2012  2012-08-19T04:00:00.000Z   \n",
       "2 -79.328266  43.682342  80496257  5002235651  2015  2015-12-30T05:00:00.000Z   \n",
       "3 -79.300490  43.780445   7542241     1311542  2012  2012-08-19T04:00:00.000Z   \n",
       "4 -79.300490  43.780445   7542242     1311542  2012  2012-08-19T04:00:00.000Z   \n",
       "\n",
       "   TIME  Hour         STREET1      STREET2  ... AG_DRIV REDLIGHT ALCOHOL  \\\n",
       "0  2318    23      QUEEN ST W      YORK ST  ...                            \n",
       "1  2318    23  SHEPPARD AVE E  AMETHYST RD  ...     Yes                    \n",
       "2  2339    23    DANFORTH AVE  GILLARD AVE  ...     Yes                    \n",
       "3  2318    23  SHEPPARD AVE E  AMETHYST RD  ...     Yes                    \n",
       "4  2318    23  SHEPPARD AVE E  AMETHYST RD  ...     Yes                    \n",
       "\n",
       "   DISABILITY  Division                     Ward_Name Ward_ID Hood_ID  \\\n",
       "0                   D52  Toronto Centre-Rosedale (27)      27      76   \n",
       "1                   D42    Scarborough-Agincourt (40)      40     118   \n",
       "2                   D55         Toronto-Danforth (30)      30      65   \n",
       "3                   D42    Scarborough-Agincourt (40)      40     118   \n",
       "4                   D42    Scarborough-Agincourt (40)      40     118   \n",
       "\n",
       "                      Hood_Name    FID  \n",
       "0      Bay Street Corridor (76)  12001  \n",
       "1  Tam O'Shanter-Sullivan (118)  12002  \n",
       "2        Greenwood-Coxwell (65)  12003  \n",
       "3  Tam O'Shanter-Sullivan (118)  12004  \n",
       "4  Tam O'Shanter-Sullivan (118)  12005  \n",
       "\n",
       "[5 rows x 57 columns]"
      ]
     },
     "execution_count": 3,
     "metadata": {},
     "output_type": "execute_result"
    }
   ],
   "source": [
    "data_orig.head()"
   ]
  },
  {
   "cell_type": "code",
   "execution_count": 4,
   "metadata": {},
   "outputs": [
    {
     "data": {
      "text/plain": [
       "<bound method DataFrame.info of                X          Y    Index_      ACCNUM  YEAR  \\\n",
       "0     -79.383490  43.651545   6666068     1249781  2011   \n",
       "1     -79.300490  43.780445   7542240     1311542  2012   \n",
       "2     -79.328266  43.682342  80496257  5002235651  2015   \n",
       "3     -79.300490  43.780445   7542241     1311542  2012   \n",
       "4     -79.300490  43.780445   7542242     1311542  2012   \n",
       "...          ...        ...       ...         ...   ...   \n",
       "12552 -79.367590  43.663245   7408709     1291534  2012   \n",
       "12553 -79.367590  43.663245   7408710     1291534  2012   \n",
       "12554 -79.367590  43.663245   7408711     1291534  2012   \n",
       "12555 -79.363430  43.645874  80545822  6001157650  2016   \n",
       "12556 -79.363430  43.645874  80545838  6001157650  2016   \n",
       "\n",
       "                           DATE  TIME  Hour         STREET1         STREET2  \\\n",
       "0      2011-08-04T04:00:00.000Z  2318    23      QUEEN ST W         YORK ST   \n",
       "1      2012-08-19T04:00:00.000Z  2318    23  SHEPPARD AVE E     AMETHYST RD   \n",
       "2      2015-12-30T05:00:00.000Z  2339    23    DANFORTH AVE     GILLARD AVE   \n",
       "3      2012-08-19T04:00:00.000Z  2318    23  SHEPPARD AVE E     AMETHYST RD   \n",
       "4      2012-08-19T04:00:00.000Z  2318    23  SHEPPARD AVE E     AMETHYST RD   \n",
       "...                         ...   ...   ...             ...             ...   \n",
       "12552  2012-03-02T05:00:00.000Z  1812    18   PARLIAMENT ST       SPRUCE ST   \n",
       "12553  2012-03-02T05:00:00.000Z  1812    18   PARLIAMENT ST       SPRUCE ST   \n",
       "12554  2012-03-02T05:00:00.000Z  1812    18   PARLIAMENT ST       SPRUCE ST   \n",
       "12555  2016-07-02T04:00:00.000Z  1812    18   QUEENS QUAY E  BONNYCASTLE ST   \n",
       "12556  2016-07-02T04:00:00.000Z  1812    18   QUEENS QUAY E  BONNYCASTLE ST   \n",
       "\n",
       "       ... AG_DRIV REDLIGHT ALCOHOL  DISABILITY  Division  \\\n",
       "0      ...                                            D52   \n",
       "1      ...     Yes                                    D42   \n",
       "2      ...     Yes                                    D55   \n",
       "3      ...     Yes                                    D42   \n",
       "4      ...     Yes                                    D42   \n",
       "...    ...     ...      ...     ...         ...       ...   \n",
       "12552  ...     Yes                                    D51   \n",
       "12553  ...     Yes                                    D51   \n",
       "12554  ...     Yes                                    D51   \n",
       "12555  ...     Yes                                    D51   \n",
       "12556  ...     Yes                                    D51   \n",
       "\n",
       "                          Ward_Name Ward_ID Hood_ID  \\\n",
       "0      Toronto Centre-Rosedale (27)      27      76   \n",
       "1        Scarborough-Agincourt (40)      40     118   \n",
       "2             Toronto-Danforth (30)      30      65   \n",
       "3        Scarborough-Agincourt (40)      40     118   \n",
       "4        Scarborough-Agincourt (40)      40     118   \n",
       "...                             ...     ...     ...   \n",
       "12552  Toronto Centre-Rosedale (28)      28      73   \n",
       "12553  Toronto Centre-Rosedale (28)      28      73   \n",
       "12554  Toronto Centre-Rosedale (28)      28      73   \n",
       "12555  Toronto Centre-Rosedale (28)      28      77   \n",
       "12556  Toronto Centre-Rosedale (28)      28      77   \n",
       "\n",
       "                                    Hood_Name    FID  \n",
       "0                    Bay Street Corridor (76)  12001  \n",
       "1                Tam O'Shanter-Sullivan (118)  12002  \n",
       "2                      Greenwood-Coxwell (65)  12003  \n",
       "3                Tam O'Shanter-Sullivan (118)  12004  \n",
       "4                Tam O'Shanter-Sullivan (118)  12005  \n",
       "...                                       ...    ...  \n",
       "12552                          Moss Park (73)   9996  \n",
       "12553                          Moss Park (73)   9997  \n",
       "12554                          Moss Park (73)   9998  \n",
       "12555  Waterfront Communities-The Island (77)   9999  \n",
       "12556  Waterfront Communities-The Island (77)  10000  \n",
       "\n",
       "[12557 rows x 57 columns]>"
      ]
     },
     "execution_count": 4,
     "metadata": {},
     "output_type": "execute_result"
    }
   ],
   "source": [
    "data_orig.info"
   ]
  },
  {
   "cell_type": "markdown",
   "metadata": {},
   "source": [
    "The dataset has 57 columns (features) and 12557 rows (incidents). Firstly, I will manually remove the columns which will clearly not affect the outcome of a traffic accident."
   ]
  },
  {
   "cell_type": "markdown",
   "metadata": {},
   "source": [
    "#### orginal column list"
   ]
  },
  {
   "cell_type": "code",
   "execution_count": 5,
   "metadata": {},
   "outputs": [
    {
     "data": {
      "text/plain": [
       "Index(['X', 'Y', 'Index_', 'ACCNUM', 'YEAR', 'DATE', 'TIME', 'Hour', 'STREET1',\n",
       "       'STREET2', 'OFFSET', 'ROAD_CLASS', 'District', 'LATITUDE', 'LONGITUDE',\n",
       "       'LOCCOORD', 'ACCLOC', 'TRAFFCTL', 'VISIBILITY', 'LIGHT', 'RDSFCOND',\n",
       "       'ACCLASS', 'IMPACTYPE', 'INVTYPE', 'INVAGE', 'INJURY', 'FATAL_NO',\n",
       "       'INITDIR', 'VEHTYPE', 'MANOEUVER', 'DRIVACT', 'DRIVCOND', 'PEDTYPE',\n",
       "       'PEDACT', 'PEDCOND', 'CYCLISTYPE', 'CYCACT', 'CYCCOND', 'PEDESTRIAN',\n",
       "       'CYCLIST', 'AUTOMOBILE', 'MOTORCYCLE', 'TRUCK', 'TRSN_CITY_VEH',\n",
       "       'EMERG_VEH', 'PASSENGER', 'SPEEDING', 'AG_DRIV', 'REDLIGHT', 'ALCOHOL',\n",
       "       'DISABILITY', 'Division', 'Ward_Name', 'Ward_ID', 'Hood_ID',\n",
       "       'Hood_Name', 'FID'],\n",
       "      dtype='object')"
      ]
     },
     "execution_count": 5,
     "metadata": {},
     "output_type": "execute_result"
    }
   ],
   "source": [
    "data_orig.columns"
   ]
  },
  {
   "cell_type": "markdown",
   "metadata": {},
   "source": [
    "#### columns after manual removal"
   ]
  },
  {
   "cell_type": "code",
   "execution_count": 6,
   "metadata": {},
   "outputs": [],
   "source": [
    "data= pd.read_csv('KSI_clean.csv')"
   ]
  },
  {
   "cell_type": "code",
   "execution_count": 7,
   "metadata": {},
   "outputs": [
    {
     "data": {
      "text/html": [
       "<div>\n",
       "<style scoped>\n",
       "    .dataframe tbody tr th:only-of-type {\n",
       "        vertical-align: middle;\n",
       "    }\n",
       "\n",
       "    .dataframe tbody tr th {\n",
       "        vertical-align: top;\n",
       "    }\n",
       "\n",
       "    .dataframe thead th {\n",
       "        text-align: right;\n",
       "    }\n",
       "</style>\n",
       "<table border=\"1\" class=\"dataframe\">\n",
       "  <thead>\n",
       "    <tr style=\"text-align: right;\">\n",
       "      <th></th>\n",
       "      <th>YEAR</th>\n",
       "      <th>DATE</th>\n",
       "      <th>ROAD_CLASS</th>\n",
       "      <th>District</th>\n",
       "      <th>LATITUDE</th>\n",
       "      <th>LONGITUDE</th>\n",
       "      <th>TRAFFCTL</th>\n",
       "      <th>VISIBILITY</th>\n",
       "      <th>LIGHT</th>\n",
       "      <th>RDSFCOND</th>\n",
       "      <th>...</th>\n",
       "      <th>PASSENGER</th>\n",
       "      <th>SPEEDING</th>\n",
       "      <th>AG_DRIV</th>\n",
       "      <th>REDLIGHT</th>\n",
       "      <th>ALCOHOL</th>\n",
       "      <th>DISABILITY</th>\n",
       "      <th>Ward_Name</th>\n",
       "      <th>Ward_ID</th>\n",
       "      <th>Hood_ID</th>\n",
       "      <th>Hood_Name</th>\n",
       "    </tr>\n",
       "  </thead>\n",
       "  <tbody>\n",
       "    <tr>\n",
       "      <th>0</th>\n",
       "      <td>2011</td>\n",
       "      <td>04-08-2011 09:30</td>\n",
       "      <td>Major Arterial</td>\n",
       "      <td>Toronto East York</td>\n",
       "      <td>43.651545</td>\n",
       "      <td>-79.383490</td>\n",
       "      <td>No</td>\n",
       "      <td>Clear</td>\n",
       "      <td>Natural</td>\n",
       "      <td>Dry</td>\n",
       "      <td>...</td>\n",
       "      <td></td>\n",
       "      <td></td>\n",
       "      <td></td>\n",
       "      <td></td>\n",
       "      <td></td>\n",
       "      <td></td>\n",
       "      <td>Toronto Centre-Rosedale (27)</td>\n",
       "      <td>27</td>\n",
       "      <td>76</td>\n",
       "      <td>Bay Street Corridor (76)</td>\n",
       "    </tr>\n",
       "    <tr>\n",
       "      <th>1</th>\n",
       "      <td>2012</td>\n",
       "      <td>19-08-2012 09:30</td>\n",
       "      <td>Major Arterial</td>\n",
       "      <td>Scarborough</td>\n",
       "      <td>43.780445</td>\n",
       "      <td>-79.300490</td>\n",
       "      <td>No</td>\n",
       "      <td>Clear</td>\n",
       "      <td>Artificial</td>\n",
       "      <td>Dry</td>\n",
       "      <td>...</td>\n",
       "      <td>Yes</td>\n",
       "      <td>Yes</td>\n",
       "      <td>Yes</td>\n",
       "      <td></td>\n",
       "      <td></td>\n",
       "      <td></td>\n",
       "      <td>Scarborough-Agincourt (40)</td>\n",
       "      <td>40</td>\n",
       "      <td>118</td>\n",
       "      <td>Tam O'Shanter-Sullivan (118)</td>\n",
       "    </tr>\n",
       "    <tr>\n",
       "      <th>2</th>\n",
       "      <td>2015</td>\n",
       "      <td>30-12-2015 10:30</td>\n",
       "      <td>Major Arterial</td>\n",
       "      <td>Toronto East York</td>\n",
       "      <td>43.682342</td>\n",
       "      <td>-79.328266</td>\n",
       "      <td>No</td>\n",
       "      <td>Clear</td>\n",
       "      <td>Artificial</td>\n",
       "      <td>Dry</td>\n",
       "      <td>...</td>\n",
       "      <td></td>\n",
       "      <td></td>\n",
       "      <td>Yes</td>\n",
       "      <td></td>\n",
       "      <td></td>\n",
       "      <td></td>\n",
       "      <td>Toronto-Danforth (30)</td>\n",
       "      <td>30</td>\n",
       "      <td>65</td>\n",
       "      <td>Greenwood-Coxwell (65)</td>\n",
       "    </tr>\n",
       "    <tr>\n",
       "      <th>3</th>\n",
       "      <td>2012</td>\n",
       "      <td>19-08-2012 09:30</td>\n",
       "      <td>Major Arterial</td>\n",
       "      <td>Scarborough</td>\n",
       "      <td>43.780445</td>\n",
       "      <td>-79.300490</td>\n",
       "      <td>No</td>\n",
       "      <td>Clear</td>\n",
       "      <td>Artificial</td>\n",
       "      <td>Dry</td>\n",
       "      <td>...</td>\n",
       "      <td>Yes</td>\n",
       "      <td>Yes</td>\n",
       "      <td>Yes</td>\n",
       "      <td></td>\n",
       "      <td></td>\n",
       "      <td></td>\n",
       "      <td>Scarborough-Agincourt (40)</td>\n",
       "      <td>40</td>\n",
       "      <td>118</td>\n",
       "      <td>Tam O'Shanter-Sullivan (118)</td>\n",
       "    </tr>\n",
       "    <tr>\n",
       "      <th>4</th>\n",
       "      <td>2012</td>\n",
       "      <td>19-08-2012 09:30</td>\n",
       "      <td>Major Arterial</td>\n",
       "      <td>Scarborough</td>\n",
       "      <td>43.780445</td>\n",
       "      <td>-79.300490</td>\n",
       "      <td>No</td>\n",
       "      <td>Clear</td>\n",
       "      <td>Artificial</td>\n",
       "      <td>Dry</td>\n",
       "      <td>...</td>\n",
       "      <td>Yes</td>\n",
       "      <td>Yes</td>\n",
       "      <td>Yes</td>\n",
       "      <td></td>\n",
       "      <td></td>\n",
       "      <td></td>\n",
       "      <td>Scarborough-Agincourt (40)</td>\n",
       "      <td>40</td>\n",
       "      <td>118</td>\n",
       "      <td>Tam O'Shanter-Sullivan (118)</td>\n",
       "    </tr>\n",
       "  </tbody>\n",
       "</table>\n",
       "<p>5 rows × 32 columns</p>\n",
       "</div>"
      ],
      "text/plain": [
       "   YEAR              DATE      ROAD_CLASS           District   LATITUDE  \\\n",
       "0  2011  04-08-2011 09:30  Major Arterial  Toronto East York  43.651545   \n",
       "1  2012  19-08-2012 09:30  Major Arterial        Scarborough  43.780445   \n",
       "2  2015  30-12-2015 10:30  Major Arterial  Toronto East York  43.682342   \n",
       "3  2012  19-08-2012 09:30  Major Arterial        Scarborough  43.780445   \n",
       "4  2012  19-08-2012 09:30  Major Arterial        Scarborough  43.780445   \n",
       "\n",
       "   LONGITUDE TRAFFCTL VISIBILITY       LIGHT RDSFCOND  ... PASSENGER SPEEDING  \\\n",
       "0 -79.383490       No      Clear     Natural      Dry  ...                      \n",
       "1 -79.300490       No      Clear  Artificial      Dry  ...       Yes      Yes   \n",
       "2 -79.328266       No      Clear  Artificial      Dry  ...                      \n",
       "3 -79.300490       No      Clear  Artificial      Dry  ...       Yes      Yes   \n",
       "4 -79.300490       No      Clear  Artificial      Dry  ...       Yes      Yes   \n",
       "\n",
       "  AG_DRIV REDLIGHT ALCOHOL DISABILITY                     Ward_Name Ward_ID  \\\n",
       "0                                      Toronto Centre-Rosedale (27)      27   \n",
       "1     Yes                                Scarborough-Agincourt (40)      40   \n",
       "2     Yes                                     Toronto-Danforth (30)      30   \n",
       "3     Yes                                Scarborough-Agincourt (40)      40   \n",
       "4     Yes                                Scarborough-Agincourt (40)      40   \n",
       "\n",
       "  Hood_ID                     Hood_Name  \n",
       "0      76      Bay Street Corridor (76)  \n",
       "1     118  Tam O'Shanter-Sullivan (118)  \n",
       "2      65        Greenwood-Coxwell (65)  \n",
       "3     118  Tam O'Shanter-Sullivan (118)  \n",
       "4     118  Tam O'Shanter-Sullivan (118)  \n",
       "\n",
       "[5 rows x 32 columns]"
      ]
     },
     "execution_count": 7,
     "metadata": {},
     "output_type": "execute_result"
    }
   ],
   "source": [
    "data.head()"
   ]
  },
  {
   "cell_type": "code",
   "execution_count": 8,
   "metadata": {},
   "outputs": [
    {
     "data": {
      "text/plain": [
       "<bound method DataFrame.info of        YEAR              DATE      ROAD_CLASS           District   LATITUDE  \\\n",
       "0      2011  04-08-2011 09:30  Major Arterial  Toronto East York  43.651545   \n",
       "1      2012  19-08-2012 09:30  Major Arterial        Scarborough  43.780445   \n",
       "2      2015  30-12-2015 10:30  Major Arterial  Toronto East York  43.682342   \n",
       "3      2012  19-08-2012 09:30  Major Arterial        Scarborough  43.780445   \n",
       "4      2012  19-08-2012 09:30  Major Arterial        Scarborough  43.780445   \n",
       "...     ...               ...             ...                ...        ...   \n",
       "12552  2012  02-03-2012 10:30  Minor Arterial  Toronto East York  43.663245   \n",
       "12553  2012  02-03-2012 10:30  Minor Arterial  Toronto East York  43.663245   \n",
       "12554  2012  02-03-2012 10:30  Minor Arterial  Toronto East York  43.663245   \n",
       "12555  2016  02-07-2016 09:30  Minor Arterial  Toronto East York  43.645874   \n",
       "12556  2016  02-07-2016 09:30  Minor Arterial  Toronto East York  43.645874   \n",
       "\n",
       "       LONGITUDE TRAFFCTL VISIBILITY       LIGHT RDSFCOND  ... PASSENGER  \\\n",
       "0     -79.383490       No      Clear     Natural      Dry  ...             \n",
       "1     -79.300490       No      Clear  Artificial      Dry  ...       Yes   \n",
       "2     -79.328266       No      Clear  Artificial      Dry  ...             \n",
       "3     -79.300490       No      Clear  Artificial      Dry  ...       Yes   \n",
       "4     -79.300490       No      Clear  Artificial      Dry  ...       Yes   \n",
       "...          ...      ...        ...         ...      ...  ...       ...   \n",
       "12552 -79.367590       No      Clear     Natural      Dry  ...             \n",
       "12553 -79.367590       No      Clear     Natural      Dry  ...             \n",
       "12554 -79.367590       No      Clear     Natural      Dry  ...             \n",
       "12555 -79.363430       No      Clear     Natural      Dry  ...       Yes   \n",
       "12556 -79.363430       No      Clear     Natural      Dry  ...       Yes   \n",
       "\n",
       "      SPEEDING AG_DRIV REDLIGHT ALCOHOL DISABILITY  \\\n",
       "0                                                    \n",
       "1          Yes     Yes                               \n",
       "2                  Yes                               \n",
       "3          Yes     Yes                               \n",
       "4          Yes     Yes                               \n",
       "...        ...     ...      ...     ...        ...   \n",
       "12552      Yes     Yes                               \n",
       "12553      Yes     Yes                               \n",
       "12554      Yes     Yes                               \n",
       "12555      Yes     Yes                               \n",
       "12556      Yes     Yes                               \n",
       "\n",
       "                          Ward_Name Ward_ID Hood_ID  \\\n",
       "0      Toronto Centre-Rosedale (27)      27      76   \n",
       "1        Scarborough-Agincourt (40)      40     118   \n",
       "2             Toronto-Danforth (30)      30      65   \n",
       "3        Scarborough-Agincourt (40)      40     118   \n",
       "4        Scarborough-Agincourt (40)      40     118   \n",
       "...                             ...     ...     ...   \n",
       "12552  Toronto Centre-Rosedale (28)      28      73   \n",
       "12553  Toronto Centre-Rosedale (28)      28      73   \n",
       "12554  Toronto Centre-Rosedale (28)      28      73   \n",
       "12555  Toronto Centre-Rosedale (28)      28      77   \n",
       "12556  Toronto Centre-Rosedale (28)      28      77   \n",
       "\n",
       "                                    Hood_Name  \n",
       "0                    Bay Street Corridor (76)  \n",
       "1                Tam O'Shanter-Sullivan (118)  \n",
       "2                      Greenwood-Coxwell (65)  \n",
       "3                Tam O'Shanter-Sullivan (118)  \n",
       "4                Tam O'Shanter-Sullivan (118)  \n",
       "...                                       ...  \n",
       "12552                          Moss Park (73)  \n",
       "12553                          Moss Park (73)  \n",
       "12554                          Moss Park (73)  \n",
       "12555  Waterfront Communities-The Island (77)  \n",
       "12556  Waterfront Communities-The Island (77)  \n",
       "\n",
       "[12557 rows x 32 columns]>"
      ]
     },
     "execution_count": 8,
     "metadata": {},
     "output_type": "execute_result"
    }
   ],
   "source": [
    "data.info"
   ]
  },
  {
   "cell_type": "markdown",
   "metadata": {},
   "source": [
    "Data in certain columns such as VISIBILTY, TRAFFCTL, LIGHT, RDSFCOND was simplified:\n",
    "\n",
    "1. TRAFFCTL was simplified to Yes/No rather than specific control names.\n",
    "2. Classes in VISIBILTY were merged, ex. drifiting snow and snow were merged to class snow.\n",
    "3. LIGHT was simplified to Natural and Artificial\n",
    "4. Classes in RDSFCOND were merged, ex. spilled liquid and wet were merged to class wet"
   ]
  },
  {
   "cell_type": "markdown",
   "metadata": {},
   "source": [
    "## Preprocessing"
   ]
  },
  {
   "cell_type": "markdown",
   "metadata": {},
   "source": [
    "#### Handling missing values"
   ]
  },
  {
   "cell_type": "code",
   "execution_count": 9,
   "metadata": {},
   "outputs": [],
   "source": [
    "data.RDSFCOND.fillna(method='ffill', inplace= True)\n",
    "data.VISIBILITY.fillna(method='ffill', inplace= True)\n",
    "data.District.fillna(method='ffill',inplace= True)\n",
    "data.fillna({\n",
    "    'SPEEDING':'No',\n",
    "    'AG_DRIV':'No',\n",
    "    'REDLIGHT':'No',\n",
    "    'ALCOHOL':'No',\n",
    "    'DISABILITY':'No',\n",
    "    'PEDESTRIAN':'No', \n",
    "    'CYCLIST':'No', \n",
    "    'AUTOMOBILE':'No',\n",
    "    'MOTORCYCLE':'No', \n",
    "    'TRUCK':'No', \n",
    "    'TRSN_CITY_VEH':'No', \n",
    "    'EMERG_VEH':'No', \n",
    "    'PASSENGER':'No'\n",
    "},inplace= True)"
   ]
  },
  {
   "cell_type": "markdown",
   "metadata": {},
   "source": [
    "#### Handling dates and time"
   ]
  },
  {
   "cell_type": "code",
   "execution_count": 10,
   "metadata": {},
   "outputs": [
    {
     "data": {
      "text/html": [
       "<div>\n",
       "<style scoped>\n",
       "    .dataframe tbody tr th:only-of-type {\n",
       "        vertical-align: middle;\n",
       "    }\n",
       "\n",
       "    .dataframe tbody tr th {\n",
       "        vertical-align: top;\n",
       "    }\n",
       "\n",
       "    .dataframe thead th {\n",
       "        text-align: right;\n",
       "    }\n",
       "</style>\n",
       "<table border=\"1\" class=\"dataframe\">\n",
       "  <thead>\n",
       "    <tr style=\"text-align: right;\">\n",
       "      <th></th>\n",
       "      <th>YEAR</th>\n",
       "      <th>ROAD_CLASS</th>\n",
       "      <th>District</th>\n",
       "      <th>LATITUDE</th>\n",
       "      <th>LONGITUDE</th>\n",
       "      <th>TRAFFCTL</th>\n",
       "      <th>VISIBILITY</th>\n",
       "      <th>LIGHT</th>\n",
       "      <th>RDSFCOND</th>\n",
       "      <th>ACCLASS</th>\n",
       "      <th>...</th>\n",
       "      <th>DISABILITY</th>\n",
       "      <th>Ward_Name</th>\n",
       "      <th>Ward_ID</th>\n",
       "      <th>Hood_ID</th>\n",
       "      <th>Hood_Name</th>\n",
       "      <th>DAY_OF_WEEK</th>\n",
       "      <th>MONTH</th>\n",
       "      <th>DAY</th>\n",
       "      <th>HOUR</th>\n",
       "      <th>MINUTES</th>\n",
       "    </tr>\n",
       "  </thead>\n",
       "  <tbody>\n",
       "    <tr>\n",
       "      <th>0</th>\n",
       "      <td>2011</td>\n",
       "      <td>Major Arterial</td>\n",
       "      <td>Toronto East York</td>\n",
       "      <td>43.651545</td>\n",
       "      <td>-79.383490</td>\n",
       "      <td>No</td>\n",
       "      <td>Clear</td>\n",
       "      <td>Natural</td>\n",
       "      <td>Dry</td>\n",
       "      <td>Non-Fatal Injury</td>\n",
       "      <td>...</td>\n",
       "      <td></td>\n",
       "      <td>Toronto Centre-Rosedale (27)</td>\n",
       "      <td>27</td>\n",
       "      <td>76</td>\n",
       "      <td>Bay Street Corridor (76)</td>\n",
       "      <td>3</td>\n",
       "      <td>8</td>\n",
       "      <td>4</td>\n",
       "      <td>9</td>\n",
       "      <td>30</td>\n",
       "    </tr>\n",
       "    <tr>\n",
       "      <th>1</th>\n",
       "      <td>2012</td>\n",
       "      <td>Major Arterial</td>\n",
       "      <td>Scarborough</td>\n",
       "      <td>43.780445</td>\n",
       "      <td>-79.300490</td>\n",
       "      <td>No</td>\n",
       "      <td>Clear</td>\n",
       "      <td>Artificial</td>\n",
       "      <td>Dry</td>\n",
       "      <td>Non-Fatal Injury</td>\n",
       "      <td>...</td>\n",
       "      <td></td>\n",
       "      <td>Scarborough-Agincourt (40)</td>\n",
       "      <td>40</td>\n",
       "      <td>118</td>\n",
       "      <td>Tam O'Shanter-Sullivan (118)</td>\n",
       "      <td>6</td>\n",
       "      <td>8</td>\n",
       "      <td>19</td>\n",
       "      <td>9</td>\n",
       "      <td>30</td>\n",
       "    </tr>\n",
       "    <tr>\n",
       "      <th>2</th>\n",
       "      <td>2015</td>\n",
       "      <td>Major Arterial</td>\n",
       "      <td>Toronto East York</td>\n",
       "      <td>43.682342</td>\n",
       "      <td>-79.328266</td>\n",
       "      <td>No</td>\n",
       "      <td>Clear</td>\n",
       "      <td>Artificial</td>\n",
       "      <td>Dry</td>\n",
       "      <td>Fatal</td>\n",
       "      <td>...</td>\n",
       "      <td></td>\n",
       "      <td>Toronto-Danforth (30)</td>\n",
       "      <td>30</td>\n",
       "      <td>65</td>\n",
       "      <td>Greenwood-Coxwell (65)</td>\n",
       "      <td>2</td>\n",
       "      <td>12</td>\n",
       "      <td>30</td>\n",
       "      <td>10</td>\n",
       "      <td>30</td>\n",
       "    </tr>\n",
       "    <tr>\n",
       "      <th>3</th>\n",
       "      <td>2012</td>\n",
       "      <td>Major Arterial</td>\n",
       "      <td>Scarborough</td>\n",
       "      <td>43.780445</td>\n",
       "      <td>-79.300490</td>\n",
       "      <td>No</td>\n",
       "      <td>Clear</td>\n",
       "      <td>Artificial</td>\n",
       "      <td>Dry</td>\n",
       "      <td>Non-Fatal Injury</td>\n",
       "      <td>...</td>\n",
       "      <td></td>\n",
       "      <td>Scarborough-Agincourt (40)</td>\n",
       "      <td>40</td>\n",
       "      <td>118</td>\n",
       "      <td>Tam O'Shanter-Sullivan (118)</td>\n",
       "      <td>6</td>\n",
       "      <td>8</td>\n",
       "      <td>19</td>\n",
       "      <td>9</td>\n",
       "      <td>30</td>\n",
       "    </tr>\n",
       "    <tr>\n",
       "      <th>4</th>\n",
       "      <td>2012</td>\n",
       "      <td>Major Arterial</td>\n",
       "      <td>Scarborough</td>\n",
       "      <td>43.780445</td>\n",
       "      <td>-79.300490</td>\n",
       "      <td>No</td>\n",
       "      <td>Clear</td>\n",
       "      <td>Artificial</td>\n",
       "      <td>Dry</td>\n",
       "      <td>Non-Fatal Injury</td>\n",
       "      <td>...</td>\n",
       "      <td></td>\n",
       "      <td>Scarborough-Agincourt (40)</td>\n",
       "      <td>40</td>\n",
       "      <td>118</td>\n",
       "      <td>Tam O'Shanter-Sullivan (118)</td>\n",
       "      <td>6</td>\n",
       "      <td>8</td>\n",
       "      <td>19</td>\n",
       "      <td>9</td>\n",
       "      <td>30</td>\n",
       "    </tr>\n",
       "    <tr>\n",
       "      <th>...</th>\n",
       "      <td>...</td>\n",
       "      <td>...</td>\n",
       "      <td>...</td>\n",
       "      <td>...</td>\n",
       "      <td>...</td>\n",
       "      <td>...</td>\n",
       "      <td>...</td>\n",
       "      <td>...</td>\n",
       "      <td>...</td>\n",
       "      <td>...</td>\n",
       "      <td>...</td>\n",
       "      <td>...</td>\n",
       "      <td>...</td>\n",
       "      <td>...</td>\n",
       "      <td>...</td>\n",
       "      <td>...</td>\n",
       "      <td>...</td>\n",
       "      <td>...</td>\n",
       "      <td>...</td>\n",
       "      <td>...</td>\n",
       "      <td>...</td>\n",
       "    </tr>\n",
       "    <tr>\n",
       "      <th>12552</th>\n",
       "      <td>2012</td>\n",
       "      <td>Minor Arterial</td>\n",
       "      <td>Toronto East York</td>\n",
       "      <td>43.663245</td>\n",
       "      <td>-79.367590</td>\n",
       "      <td>No</td>\n",
       "      <td>Clear</td>\n",
       "      <td>Natural</td>\n",
       "      <td>Dry</td>\n",
       "      <td>Non-Fatal Injury</td>\n",
       "      <td>...</td>\n",
       "      <td></td>\n",
       "      <td>Toronto Centre-Rosedale (28)</td>\n",
       "      <td>28</td>\n",
       "      <td>73</td>\n",
       "      <td>Moss Park (73)</td>\n",
       "      <td>4</td>\n",
       "      <td>3</td>\n",
       "      <td>2</td>\n",
       "      <td>10</td>\n",
       "      <td>30</td>\n",
       "    </tr>\n",
       "    <tr>\n",
       "      <th>12553</th>\n",
       "      <td>2012</td>\n",
       "      <td>Minor Arterial</td>\n",
       "      <td>Toronto East York</td>\n",
       "      <td>43.663245</td>\n",
       "      <td>-79.367590</td>\n",
       "      <td>No</td>\n",
       "      <td>Clear</td>\n",
       "      <td>Natural</td>\n",
       "      <td>Dry</td>\n",
       "      <td>Non-Fatal Injury</td>\n",
       "      <td>...</td>\n",
       "      <td></td>\n",
       "      <td>Toronto Centre-Rosedale (28)</td>\n",
       "      <td>28</td>\n",
       "      <td>73</td>\n",
       "      <td>Moss Park (73)</td>\n",
       "      <td>4</td>\n",
       "      <td>3</td>\n",
       "      <td>2</td>\n",
       "      <td>10</td>\n",
       "      <td>30</td>\n",
       "    </tr>\n",
       "    <tr>\n",
       "      <th>12554</th>\n",
       "      <td>2012</td>\n",
       "      <td>Minor Arterial</td>\n",
       "      <td>Toronto East York</td>\n",
       "      <td>43.663245</td>\n",
       "      <td>-79.367590</td>\n",
       "      <td>No</td>\n",
       "      <td>Clear</td>\n",
       "      <td>Natural</td>\n",
       "      <td>Dry</td>\n",
       "      <td>Non-Fatal Injury</td>\n",
       "      <td>...</td>\n",
       "      <td></td>\n",
       "      <td>Toronto Centre-Rosedale (28)</td>\n",
       "      <td>28</td>\n",
       "      <td>73</td>\n",
       "      <td>Moss Park (73)</td>\n",
       "      <td>4</td>\n",
       "      <td>3</td>\n",
       "      <td>2</td>\n",
       "      <td>10</td>\n",
       "      <td>30</td>\n",
       "    </tr>\n",
       "    <tr>\n",
       "      <th>12555</th>\n",
       "      <td>2016</td>\n",
       "      <td>Minor Arterial</td>\n",
       "      <td>Toronto East York</td>\n",
       "      <td>43.645874</td>\n",
       "      <td>-79.363430</td>\n",
       "      <td>No</td>\n",
       "      <td>Clear</td>\n",
       "      <td>Natural</td>\n",
       "      <td>Dry</td>\n",
       "      <td>Fatal</td>\n",
       "      <td>...</td>\n",
       "      <td></td>\n",
       "      <td>Toronto Centre-Rosedale (28)</td>\n",
       "      <td>28</td>\n",
       "      <td>77</td>\n",
       "      <td>Waterfront Communities-The Island (77)</td>\n",
       "      <td>5</td>\n",
       "      <td>7</td>\n",
       "      <td>2</td>\n",
       "      <td>9</td>\n",
       "      <td>30</td>\n",
       "    </tr>\n",
       "    <tr>\n",
       "      <th>12556</th>\n",
       "      <td>2016</td>\n",
       "      <td>Minor Arterial</td>\n",
       "      <td>Toronto East York</td>\n",
       "      <td>43.645874</td>\n",
       "      <td>-79.363430</td>\n",
       "      <td>No</td>\n",
       "      <td>Clear</td>\n",
       "      <td>Natural</td>\n",
       "      <td>Dry</td>\n",
       "      <td>Fatal</td>\n",
       "      <td>...</td>\n",
       "      <td></td>\n",
       "      <td>Toronto Centre-Rosedale (28)</td>\n",
       "      <td>28</td>\n",
       "      <td>77</td>\n",
       "      <td>Waterfront Communities-The Island (77)</td>\n",
       "      <td>5</td>\n",
       "      <td>7</td>\n",
       "      <td>2</td>\n",
       "      <td>9</td>\n",
       "      <td>30</td>\n",
       "    </tr>\n",
       "  </tbody>\n",
       "</table>\n",
       "<p>12557 rows × 36 columns</p>\n",
       "</div>"
      ],
      "text/plain": [
       "       YEAR      ROAD_CLASS           District   LATITUDE  LONGITUDE TRAFFCTL  \\\n",
       "0      2011  Major Arterial  Toronto East York  43.651545 -79.383490       No   \n",
       "1      2012  Major Arterial        Scarborough  43.780445 -79.300490       No   \n",
       "2      2015  Major Arterial  Toronto East York  43.682342 -79.328266       No   \n",
       "3      2012  Major Arterial        Scarborough  43.780445 -79.300490       No   \n",
       "4      2012  Major Arterial        Scarborough  43.780445 -79.300490       No   \n",
       "...     ...             ...                ...        ...        ...      ...   \n",
       "12552  2012  Minor Arterial  Toronto East York  43.663245 -79.367590       No   \n",
       "12553  2012  Minor Arterial  Toronto East York  43.663245 -79.367590       No   \n",
       "12554  2012  Minor Arterial  Toronto East York  43.663245 -79.367590       No   \n",
       "12555  2016  Minor Arterial  Toronto East York  43.645874 -79.363430       No   \n",
       "12556  2016  Minor Arterial  Toronto East York  43.645874 -79.363430       No   \n",
       "\n",
       "      VISIBILITY       LIGHT RDSFCOND           ACCLASS  ... DISABILITY  \\\n",
       "0          Clear     Natural      Dry  Non-Fatal Injury  ...              \n",
       "1          Clear  Artificial      Dry  Non-Fatal Injury  ...              \n",
       "2          Clear  Artificial      Dry             Fatal  ...              \n",
       "3          Clear  Artificial      Dry  Non-Fatal Injury  ...              \n",
       "4          Clear  Artificial      Dry  Non-Fatal Injury  ...              \n",
       "...          ...         ...      ...               ...  ...        ...   \n",
       "12552      Clear     Natural      Dry  Non-Fatal Injury  ...              \n",
       "12553      Clear     Natural      Dry  Non-Fatal Injury  ...              \n",
       "12554      Clear     Natural      Dry  Non-Fatal Injury  ...              \n",
       "12555      Clear     Natural      Dry             Fatal  ...              \n",
       "12556      Clear     Natural      Dry             Fatal  ...              \n",
       "\n",
       "                          Ward_Name Ward_ID Hood_ID  \\\n",
       "0      Toronto Centre-Rosedale (27)      27      76   \n",
       "1        Scarborough-Agincourt (40)      40     118   \n",
       "2             Toronto-Danforth (30)      30      65   \n",
       "3        Scarborough-Agincourt (40)      40     118   \n",
       "4        Scarborough-Agincourt (40)      40     118   \n",
       "...                             ...     ...     ...   \n",
       "12552  Toronto Centre-Rosedale (28)      28      73   \n",
       "12553  Toronto Centre-Rosedale (28)      28      73   \n",
       "12554  Toronto Centre-Rosedale (28)      28      73   \n",
       "12555  Toronto Centre-Rosedale (28)      28      77   \n",
       "12556  Toronto Centre-Rosedale (28)      28      77   \n",
       "\n",
       "                                    Hood_Name DAY_OF_WEEK MONTH DAY HOUR  \\\n",
       "0                    Bay Street Corridor (76)           3     8   4    9   \n",
       "1                Tam O'Shanter-Sullivan (118)           6     8  19    9   \n",
       "2                      Greenwood-Coxwell (65)           2    12  30   10   \n",
       "3                Tam O'Shanter-Sullivan (118)           6     8  19    9   \n",
       "4                Tam O'Shanter-Sullivan (118)           6     8  19    9   \n",
       "...                                       ...         ...   ...  ..  ...   \n",
       "12552                          Moss Park (73)           4     3   2   10   \n",
       "12553                          Moss Park (73)           4     3   2   10   \n",
       "12554                          Moss Park (73)           4     3   2   10   \n",
       "12555  Waterfront Communities-The Island (77)           5     7   2    9   \n",
       "12556  Waterfront Communities-The Island (77)           5     7   2    9   \n",
       "\n",
       "      MINUTES  \n",
       "0          30  \n",
       "1          30  \n",
       "2          30  \n",
       "3          30  \n",
       "4          30  \n",
       "...       ...  \n",
       "12552      30  \n",
       "12553      30  \n",
       "12554      30  \n",
       "12555      30  \n",
       "12556      30  \n",
       "\n",
       "[12557 rows x 36 columns]"
      ]
     },
     "execution_count": 10,
     "metadata": {},
     "output_type": "execute_result"
    }
   ],
   "source": [
    "data.DATE= pd.to_datetime(data.DATE, yearfirst= False, dayfirst= True)\n",
    "data['DAY_OF_WEEK']= pd.to_datetime(data['DATE']).dt.dayofweek\n",
    "data['TIME']= pd.to_datetime(data['DATE']).dt.time\n",
    "data['MONTH']= pd.to_datetime(data['DATE']).dt.month\n",
    "data['DAY']= pd.to_datetime(data['DATE']).dt.day\n",
    "data['HOUR']= pd.to_datetime(data['DATE']).dt.hour\n",
    "data['MINUTES']= pd.to_datetime(data['DATE']).dt.minute\n",
    "#removing DATE and TIME as they are in datetime format which is not an acceptable format for \n",
    "#further processing\n",
    "data.drop(columns=['DATE','TIME'])"
   ]
  },
  {
   "cell_type": "markdown",
   "metadata": {},
   "source": [
    "#### Rearranging columns"
   ]
  },
  {
   "cell_type": "code",
   "execution_count": 11,
   "metadata": {},
   "outputs": [],
   "source": [
    "col_order= ['YEAR','DAY_OF_WEEK', 'MONTH','DAY', 'HOUR', 'MINUTES','LATITUDE', 'LONGITUDE',\n",
    "            'ROAD_CLASS','VISIBILITY','RDSFCOND','INVAGE','INJURY','TRAFFCTL','LIGHT',\n",
    "            'District','INITDIR','PEDESTRIAN','CYCLIST', 'AUTOMOBILE','MOTORCYCLE', 'TRUCK', \n",
    "            'TRSN_CITY_VEH','EMERG_VEH', 'PASSENGER','SPEEDING', 'AG_DRIV', 'REDLIGHT',\n",
    "            'ALCOHOL', 'DISABILITY','Ward_ID','Hood_ID','ACCLASS']\n",
    "data= data.reindex(columns= col_order)"
   ]
  },
  {
   "cell_type": "markdown",
   "metadata": {},
   "source": [
    "#### Creating features (X) and dependent variable (y)"
   ]
  },
  {
   "cell_type": "code",
   "execution_count": 12,
   "metadata": {},
   "outputs": [],
   "source": [
    "X= data.iloc[:,:-1]\n",
    "y= data.iloc[:,-1].values"
   ]
  },
  {
   "cell_type": "code",
   "execution_count": 13,
   "metadata": {},
   "outputs": [
    {
     "data": {
      "text/html": [
       "<div>\n",
       "<style scoped>\n",
       "    .dataframe tbody tr th:only-of-type {\n",
       "        vertical-align: middle;\n",
       "    }\n",
       "\n",
       "    .dataframe tbody tr th {\n",
       "        vertical-align: top;\n",
       "    }\n",
       "\n",
       "    .dataframe thead th {\n",
       "        text-align: right;\n",
       "    }\n",
       "</style>\n",
       "<table border=\"1\" class=\"dataframe\">\n",
       "  <thead>\n",
       "    <tr style=\"text-align: right;\">\n",
       "      <th></th>\n",
       "      <th>YEAR</th>\n",
       "      <th>DAY_OF_WEEK</th>\n",
       "      <th>MONTH</th>\n",
       "      <th>DAY</th>\n",
       "      <th>HOUR</th>\n",
       "      <th>MINUTES</th>\n",
       "      <th>LATITUDE</th>\n",
       "      <th>LONGITUDE</th>\n",
       "      <th>ROAD_CLASS</th>\n",
       "      <th>VISIBILITY</th>\n",
       "      <th>...</th>\n",
       "      <th>TRSN_CITY_VEH</th>\n",
       "      <th>EMERG_VEH</th>\n",
       "      <th>PASSENGER</th>\n",
       "      <th>SPEEDING</th>\n",
       "      <th>AG_DRIV</th>\n",
       "      <th>REDLIGHT</th>\n",
       "      <th>ALCOHOL</th>\n",
       "      <th>DISABILITY</th>\n",
       "      <th>Ward_ID</th>\n",
       "      <th>Hood_ID</th>\n",
       "    </tr>\n",
       "  </thead>\n",
       "  <tbody>\n",
       "    <tr>\n",
       "      <th>0</th>\n",
       "      <td>2011</td>\n",
       "      <td>3</td>\n",
       "      <td>8</td>\n",
       "      <td>4</td>\n",
       "      <td>9</td>\n",
       "      <td>30</td>\n",
       "      <td>43.651545</td>\n",
       "      <td>-79.383490</td>\n",
       "      <td>Major Arterial</td>\n",
       "      <td>Clear</td>\n",
       "      <td>...</td>\n",
       "      <td>Yes</td>\n",
       "      <td></td>\n",
       "      <td></td>\n",
       "      <td></td>\n",
       "      <td></td>\n",
       "      <td></td>\n",
       "      <td></td>\n",
       "      <td></td>\n",
       "      <td>27</td>\n",
       "      <td>76</td>\n",
       "    </tr>\n",
       "    <tr>\n",
       "      <th>1</th>\n",
       "      <td>2012</td>\n",
       "      <td>6</td>\n",
       "      <td>8</td>\n",
       "      <td>19</td>\n",
       "      <td>9</td>\n",
       "      <td>30</td>\n",
       "      <td>43.780445</td>\n",
       "      <td>-79.300490</td>\n",
       "      <td>Major Arterial</td>\n",
       "      <td>Clear</td>\n",
       "      <td>...</td>\n",
       "      <td></td>\n",
       "      <td></td>\n",
       "      <td>Yes</td>\n",
       "      <td>Yes</td>\n",
       "      <td>Yes</td>\n",
       "      <td></td>\n",
       "      <td></td>\n",
       "      <td></td>\n",
       "      <td>40</td>\n",
       "      <td>118</td>\n",
       "    </tr>\n",
       "    <tr>\n",
       "      <th>2</th>\n",
       "      <td>2015</td>\n",
       "      <td>2</td>\n",
       "      <td>12</td>\n",
       "      <td>30</td>\n",
       "      <td>10</td>\n",
       "      <td>30</td>\n",
       "      <td>43.682342</td>\n",
       "      <td>-79.328266</td>\n",
       "      <td>Major Arterial</td>\n",
       "      <td>Clear</td>\n",
       "      <td>...</td>\n",
       "      <td></td>\n",
       "      <td></td>\n",
       "      <td></td>\n",
       "      <td></td>\n",
       "      <td>Yes</td>\n",
       "      <td></td>\n",
       "      <td></td>\n",
       "      <td></td>\n",
       "      <td>30</td>\n",
       "      <td>65</td>\n",
       "    </tr>\n",
       "    <tr>\n",
       "      <th>3</th>\n",
       "      <td>2012</td>\n",
       "      <td>6</td>\n",
       "      <td>8</td>\n",
       "      <td>19</td>\n",
       "      <td>9</td>\n",
       "      <td>30</td>\n",
       "      <td>43.780445</td>\n",
       "      <td>-79.300490</td>\n",
       "      <td>Major Arterial</td>\n",
       "      <td>Clear</td>\n",
       "      <td>...</td>\n",
       "      <td></td>\n",
       "      <td></td>\n",
       "      <td>Yes</td>\n",
       "      <td>Yes</td>\n",
       "      <td>Yes</td>\n",
       "      <td></td>\n",
       "      <td></td>\n",
       "      <td></td>\n",
       "      <td>40</td>\n",
       "      <td>118</td>\n",
       "    </tr>\n",
       "    <tr>\n",
       "      <th>4</th>\n",
       "      <td>2012</td>\n",
       "      <td>6</td>\n",
       "      <td>8</td>\n",
       "      <td>19</td>\n",
       "      <td>9</td>\n",
       "      <td>30</td>\n",
       "      <td>43.780445</td>\n",
       "      <td>-79.300490</td>\n",
       "      <td>Major Arterial</td>\n",
       "      <td>Clear</td>\n",
       "      <td>...</td>\n",
       "      <td></td>\n",
       "      <td></td>\n",
       "      <td>Yes</td>\n",
       "      <td>Yes</td>\n",
       "      <td>Yes</td>\n",
       "      <td></td>\n",
       "      <td></td>\n",
       "      <td></td>\n",
       "      <td>40</td>\n",
       "      <td>118</td>\n",
       "    </tr>\n",
       "    <tr>\n",
       "      <th>...</th>\n",
       "      <td>...</td>\n",
       "      <td>...</td>\n",
       "      <td>...</td>\n",
       "      <td>...</td>\n",
       "      <td>...</td>\n",
       "      <td>...</td>\n",
       "      <td>...</td>\n",
       "      <td>...</td>\n",
       "      <td>...</td>\n",
       "      <td>...</td>\n",
       "      <td>...</td>\n",
       "      <td>...</td>\n",
       "      <td>...</td>\n",
       "      <td>...</td>\n",
       "      <td>...</td>\n",
       "      <td>...</td>\n",
       "      <td>...</td>\n",
       "      <td>...</td>\n",
       "      <td>...</td>\n",
       "      <td>...</td>\n",
       "      <td>...</td>\n",
       "    </tr>\n",
       "    <tr>\n",
       "      <th>12552</th>\n",
       "      <td>2012</td>\n",
       "      <td>4</td>\n",
       "      <td>3</td>\n",
       "      <td>2</td>\n",
       "      <td>10</td>\n",
       "      <td>30</td>\n",
       "      <td>43.663245</td>\n",
       "      <td>-79.367590</td>\n",
       "      <td>Minor Arterial</td>\n",
       "      <td>Clear</td>\n",
       "      <td>...</td>\n",
       "      <td></td>\n",
       "      <td></td>\n",
       "      <td></td>\n",
       "      <td>Yes</td>\n",
       "      <td>Yes</td>\n",
       "      <td></td>\n",
       "      <td></td>\n",
       "      <td></td>\n",
       "      <td>28</td>\n",
       "      <td>73</td>\n",
       "    </tr>\n",
       "    <tr>\n",
       "      <th>12553</th>\n",
       "      <td>2012</td>\n",
       "      <td>4</td>\n",
       "      <td>3</td>\n",
       "      <td>2</td>\n",
       "      <td>10</td>\n",
       "      <td>30</td>\n",
       "      <td>43.663245</td>\n",
       "      <td>-79.367590</td>\n",
       "      <td>Minor Arterial</td>\n",
       "      <td>Clear</td>\n",
       "      <td>...</td>\n",
       "      <td></td>\n",
       "      <td></td>\n",
       "      <td></td>\n",
       "      <td>Yes</td>\n",
       "      <td>Yes</td>\n",
       "      <td></td>\n",
       "      <td></td>\n",
       "      <td></td>\n",
       "      <td>28</td>\n",
       "      <td>73</td>\n",
       "    </tr>\n",
       "    <tr>\n",
       "      <th>12554</th>\n",
       "      <td>2012</td>\n",
       "      <td>4</td>\n",
       "      <td>3</td>\n",
       "      <td>2</td>\n",
       "      <td>10</td>\n",
       "      <td>30</td>\n",
       "      <td>43.663245</td>\n",
       "      <td>-79.367590</td>\n",
       "      <td>Minor Arterial</td>\n",
       "      <td>Clear</td>\n",
       "      <td>...</td>\n",
       "      <td></td>\n",
       "      <td></td>\n",
       "      <td></td>\n",
       "      <td>Yes</td>\n",
       "      <td>Yes</td>\n",
       "      <td></td>\n",
       "      <td></td>\n",
       "      <td></td>\n",
       "      <td>28</td>\n",
       "      <td>73</td>\n",
       "    </tr>\n",
       "    <tr>\n",
       "      <th>12555</th>\n",
       "      <td>2016</td>\n",
       "      <td>5</td>\n",
       "      <td>7</td>\n",
       "      <td>2</td>\n",
       "      <td>9</td>\n",
       "      <td>30</td>\n",
       "      <td>43.645874</td>\n",
       "      <td>-79.363430</td>\n",
       "      <td>Minor Arterial</td>\n",
       "      <td>Clear</td>\n",
       "      <td>...</td>\n",
       "      <td></td>\n",
       "      <td></td>\n",
       "      <td>Yes</td>\n",
       "      <td>Yes</td>\n",
       "      <td>Yes</td>\n",
       "      <td></td>\n",
       "      <td></td>\n",
       "      <td></td>\n",
       "      <td>28</td>\n",
       "      <td>77</td>\n",
       "    </tr>\n",
       "    <tr>\n",
       "      <th>12556</th>\n",
       "      <td>2016</td>\n",
       "      <td>5</td>\n",
       "      <td>7</td>\n",
       "      <td>2</td>\n",
       "      <td>9</td>\n",
       "      <td>30</td>\n",
       "      <td>43.645874</td>\n",
       "      <td>-79.363430</td>\n",
       "      <td>Minor Arterial</td>\n",
       "      <td>Clear</td>\n",
       "      <td>...</td>\n",
       "      <td></td>\n",
       "      <td></td>\n",
       "      <td>Yes</td>\n",
       "      <td>Yes</td>\n",
       "      <td>Yes</td>\n",
       "      <td></td>\n",
       "      <td></td>\n",
       "      <td></td>\n",
       "      <td>28</td>\n",
       "      <td>77</td>\n",
       "    </tr>\n",
       "  </tbody>\n",
       "</table>\n",
       "<p>12557 rows × 32 columns</p>\n",
       "</div>"
      ],
      "text/plain": [
       "       YEAR  DAY_OF_WEEK  MONTH  DAY  HOUR  MINUTES   LATITUDE  LONGITUDE  \\\n",
       "0      2011            3      8    4     9       30  43.651545 -79.383490   \n",
       "1      2012            6      8   19     9       30  43.780445 -79.300490   \n",
       "2      2015            2     12   30    10       30  43.682342 -79.328266   \n",
       "3      2012            6      8   19     9       30  43.780445 -79.300490   \n",
       "4      2012            6      8   19     9       30  43.780445 -79.300490   \n",
       "...     ...          ...    ...  ...   ...      ...        ...        ...   \n",
       "12552  2012            4      3    2    10       30  43.663245 -79.367590   \n",
       "12553  2012            4      3    2    10       30  43.663245 -79.367590   \n",
       "12554  2012            4      3    2    10       30  43.663245 -79.367590   \n",
       "12555  2016            5      7    2     9       30  43.645874 -79.363430   \n",
       "12556  2016            5      7    2     9       30  43.645874 -79.363430   \n",
       "\n",
       "           ROAD_CLASS VISIBILITY  ... TRSN_CITY_VEH EMERG_VEH PASSENGER  \\\n",
       "0      Major Arterial      Clear  ...           Yes                       \n",
       "1      Major Arterial      Clear  ...                               Yes   \n",
       "2      Major Arterial      Clear  ...                                     \n",
       "3      Major Arterial      Clear  ...                               Yes   \n",
       "4      Major Arterial      Clear  ...                               Yes   \n",
       "...               ...        ...  ...           ...       ...       ...   \n",
       "12552  Minor Arterial      Clear  ...                                     \n",
       "12553  Minor Arterial      Clear  ...                                     \n",
       "12554  Minor Arterial      Clear  ...                                     \n",
       "12555  Minor Arterial      Clear  ...                               Yes   \n",
       "12556  Minor Arterial      Clear  ...                               Yes   \n",
       "\n",
       "      SPEEDING AG_DRIV REDLIGHT ALCOHOL DISABILITY Ward_ID Hood_ID  \n",
       "0                                                       27      76  \n",
       "1          Yes     Yes                                  40     118  \n",
       "2                  Yes                                  30      65  \n",
       "3          Yes     Yes                                  40     118  \n",
       "4          Yes     Yes                                  40     118  \n",
       "...        ...     ...      ...     ...        ...     ...     ...  \n",
       "12552      Yes     Yes                                  28      73  \n",
       "12553      Yes     Yes                                  28      73  \n",
       "12554      Yes     Yes                                  28      73  \n",
       "12555      Yes     Yes                                  28      77  \n",
       "12556      Yes     Yes                                  28      77  \n",
       "\n",
       "[12557 rows x 32 columns]"
      ]
     },
     "execution_count": 13,
     "metadata": {},
     "output_type": "execute_result"
    }
   ],
   "source": [
    "X"
   ]
  },
  {
   "cell_type": "markdown",
   "metadata": {},
   "source": [
    "#### Encoding X and y"
   ]
  },
  {
   "cell_type": "markdown",
   "metadata": {},
   "source": [
    "--> features that are Ordinal, meaning their order has an affect on the severity of the crash, were encoded using the OrdinalEncoder. \n",
    "Example: the severity of an injury in the INJURY column has a direct effect on the Fatality of the crash.\n",
    "\n",
    "--> features that are Non-Ordinal, meaning their order has no affect on the outcome, were encoded with OneHotEncoder.\n",
    "Example: the direction of travel (North,Sounth,East,West) has no direct affect on the outcome of the crash."
   ]
  },
  {
   "cell_type": "code",
   "execution_count": 14,
   "metadata": {},
   "outputs": [],
   "source": [
    "from sklearn.preprocessing import LabelEncoder, OneHotEncoder, OrdinalEncoder\n",
    "from sklearn.compose import ColumnTransformer, make_column_transformer"
   ]
  },
  {
   "cell_type": "code",
   "execution_count": 15,
   "metadata": {},
   "outputs": [],
   "source": [
    "preprocess= make_column_transformer(\n",
    "                (OrdinalEncoder(),['ROAD_CLASS','VISIBILITY','RDSFCOND','INVAGE','INJURY',\n",
    "                                  'PEDESTRIAN', 'CYCLIST', 'AUTOMOBILE','MOTORCYCLE', 'TRUCK', \n",
    "                                   'TRSN_CITY_VEH', 'EMERG_VEH', 'PASSENGER','SPEEDING', \n",
    "                                   'AG_DRIV', 'REDLIGHT', 'ALCOHOL', 'DISABILITY']),\n",
    "                (OneHotEncoder(),['TRAFFCTL','LIGHT','District','INITDIR']),\n",
    "                remainder='passthrough')\n",
    "X= pd.DataFrame(preprocess.fit_transform(X))"
   ]
  },
  {
   "cell_type": "code",
   "execution_count": 16,
   "metadata": {},
   "outputs": [],
   "source": [
    "le= LabelEncoder()\n",
    "y= le.fit_transform(y)"
   ]
  },
  {
   "cell_type": "code",
   "execution_count": 17,
   "metadata": {},
   "outputs": [
    {
     "data": {
      "text/html": [
       "<div>\n",
       "<style scoped>\n",
       "    .dataframe tbody tr th:only-of-type {\n",
       "        vertical-align: middle;\n",
       "    }\n",
       "\n",
       "    .dataframe tbody tr th {\n",
       "        vertical-align: top;\n",
       "    }\n",
       "\n",
       "    .dataframe thead th {\n",
       "        text-align: right;\n",
       "    }\n",
       "</style>\n",
       "<table border=\"1\" class=\"dataframe\">\n",
       "  <thead>\n",
       "    <tr style=\"text-align: right;\">\n",
       "      <th></th>\n",
       "      <th>0</th>\n",
       "      <th>1</th>\n",
       "      <th>2</th>\n",
       "      <th>3</th>\n",
       "      <th>4</th>\n",
       "      <th>5</th>\n",
       "      <th>6</th>\n",
       "      <th>7</th>\n",
       "      <th>8</th>\n",
       "      <th>9</th>\n",
       "      <th>...</th>\n",
       "      <th>33</th>\n",
       "      <th>34</th>\n",
       "      <th>35</th>\n",
       "      <th>36</th>\n",
       "      <th>37</th>\n",
       "      <th>38</th>\n",
       "      <th>39</th>\n",
       "      <th>40</th>\n",
       "      <th>41</th>\n",
       "      <th>42</th>\n",
       "    </tr>\n",
       "  </thead>\n",
       "  <tbody>\n",
       "    <tr>\n",
       "      <th>0</th>\n",
       "      <td>5.0</td>\n",
       "      <td>1.0</td>\n",
       "      <td>1.0</td>\n",
       "      <td>10.0</td>\n",
       "      <td>4.0</td>\n",
       "      <td>1.0</td>\n",
       "      <td>0.0</td>\n",
       "      <td>0.0</td>\n",
       "      <td>0.0</td>\n",
       "      <td>0.0</td>\n",
       "      <td>...</td>\n",
       "      <td>2011.0</td>\n",
       "      <td>3.0</td>\n",
       "      <td>8.0</td>\n",
       "      <td>4.0</td>\n",
       "      <td>9.0</td>\n",
       "      <td>30.0</td>\n",
       "      <td>43.651545</td>\n",
       "      <td>-79.383490</td>\n",
       "      <td>27.0</td>\n",
       "      <td>76.0</td>\n",
       "    </tr>\n",
       "    <tr>\n",
       "      <th>1</th>\n",
       "      <td>5.0</td>\n",
       "      <td>1.0</td>\n",
       "      <td>1.0</td>\n",
       "      <td>4.0</td>\n",
       "      <td>2.0</td>\n",
       "      <td>1.0</td>\n",
       "      <td>0.0</td>\n",
       "      <td>1.0</td>\n",
       "      <td>0.0</td>\n",
       "      <td>0.0</td>\n",
       "      <td>...</td>\n",
       "      <td>2012.0</td>\n",
       "      <td>6.0</td>\n",
       "      <td>8.0</td>\n",
       "      <td>19.0</td>\n",
       "      <td>9.0</td>\n",
       "      <td>30.0</td>\n",
       "      <td>43.780445</td>\n",
       "      <td>-79.300490</td>\n",
       "      <td>40.0</td>\n",
       "      <td>118.0</td>\n",
       "    </tr>\n",
       "    <tr>\n",
       "      <th>2</th>\n",
       "      <td>5.0</td>\n",
       "      <td>1.0</td>\n",
       "      <td>1.0</td>\n",
       "      <td>12.0</td>\n",
       "      <td>0.0</td>\n",
       "      <td>1.0</td>\n",
       "      <td>0.0</td>\n",
       "      <td>1.0</td>\n",
       "      <td>0.0</td>\n",
       "      <td>0.0</td>\n",
       "      <td>...</td>\n",
       "      <td>2015.0</td>\n",
       "      <td>2.0</td>\n",
       "      <td>12.0</td>\n",
       "      <td>30.0</td>\n",
       "      <td>10.0</td>\n",
       "      <td>30.0</td>\n",
       "      <td>43.682342</td>\n",
       "      <td>-79.328266</td>\n",
       "      <td>30.0</td>\n",
       "      <td>65.0</td>\n",
       "    </tr>\n",
       "    <tr>\n",
       "      <th>3</th>\n",
       "      <td>5.0</td>\n",
       "      <td>1.0</td>\n",
       "      <td>1.0</td>\n",
       "      <td>20.0</td>\n",
       "      <td>5.0</td>\n",
       "      <td>1.0</td>\n",
       "      <td>0.0</td>\n",
       "      <td>1.0</td>\n",
       "      <td>0.0</td>\n",
       "      <td>0.0</td>\n",
       "      <td>...</td>\n",
       "      <td>2012.0</td>\n",
       "      <td>6.0</td>\n",
       "      <td>8.0</td>\n",
       "      <td>19.0</td>\n",
       "      <td>9.0</td>\n",
       "      <td>30.0</td>\n",
       "      <td>43.780445</td>\n",
       "      <td>-79.300490</td>\n",
       "      <td>40.0</td>\n",
       "      <td>118.0</td>\n",
       "    </tr>\n",
       "    <tr>\n",
       "      <th>4</th>\n",
       "      <td>5.0</td>\n",
       "      <td>1.0</td>\n",
       "      <td>1.0</td>\n",
       "      <td>12.0</td>\n",
       "      <td>4.0</td>\n",
       "      <td>1.0</td>\n",
       "      <td>0.0</td>\n",
       "      <td>1.0</td>\n",
       "      <td>0.0</td>\n",
       "      <td>0.0</td>\n",
       "      <td>...</td>\n",
       "      <td>2012.0</td>\n",
       "      <td>6.0</td>\n",
       "      <td>8.0</td>\n",
       "      <td>19.0</td>\n",
       "      <td>9.0</td>\n",
       "      <td>30.0</td>\n",
       "      <td>43.780445</td>\n",
       "      <td>-79.300490</td>\n",
       "      <td>40.0</td>\n",
       "      <td>118.0</td>\n",
       "    </tr>\n",
       "    <tr>\n",
       "      <th>...</th>\n",
       "      <td>...</td>\n",
       "      <td>...</td>\n",
       "      <td>...</td>\n",
       "      <td>...</td>\n",
       "      <td>...</td>\n",
       "      <td>...</td>\n",
       "      <td>...</td>\n",
       "      <td>...</td>\n",
       "      <td>...</td>\n",
       "      <td>...</td>\n",
       "      <td>...</td>\n",
       "      <td>...</td>\n",
       "      <td>...</td>\n",
       "      <td>...</td>\n",
       "      <td>...</td>\n",
       "      <td>...</td>\n",
       "      <td>...</td>\n",
       "      <td>...</td>\n",
       "      <td>...</td>\n",
       "      <td>...</td>\n",
       "      <td>...</td>\n",
       "    </tr>\n",
       "    <tr>\n",
       "      <th>12552</th>\n",
       "      <td>7.0</td>\n",
       "      <td>1.0</td>\n",
       "      <td>1.0</td>\n",
       "      <td>8.0</td>\n",
       "      <td>1.0</td>\n",
       "      <td>1.0</td>\n",
       "      <td>0.0</td>\n",
       "      <td>0.0</td>\n",
       "      <td>1.0</td>\n",
       "      <td>0.0</td>\n",
       "      <td>...</td>\n",
       "      <td>2012.0</td>\n",
       "      <td>4.0</td>\n",
       "      <td>3.0</td>\n",
       "      <td>2.0</td>\n",
       "      <td>10.0</td>\n",
       "      <td>30.0</td>\n",
       "      <td>43.663245</td>\n",
       "      <td>-79.367590</td>\n",
       "      <td>28.0</td>\n",
       "      <td>73.0</td>\n",
       "    </tr>\n",
       "    <tr>\n",
       "      <th>12553</th>\n",
       "      <td>7.0</td>\n",
       "      <td>1.0</td>\n",
       "      <td>1.0</td>\n",
       "      <td>20.0</td>\n",
       "      <td>4.0</td>\n",
       "      <td>1.0</td>\n",
       "      <td>0.0</td>\n",
       "      <td>0.0</td>\n",
       "      <td>1.0</td>\n",
       "      <td>0.0</td>\n",
       "      <td>...</td>\n",
       "      <td>2012.0</td>\n",
       "      <td>4.0</td>\n",
       "      <td>3.0</td>\n",
       "      <td>2.0</td>\n",
       "      <td>10.0</td>\n",
       "      <td>30.0</td>\n",
       "      <td>43.663245</td>\n",
       "      <td>-79.367590</td>\n",
       "      <td>28.0</td>\n",
       "      <td>73.0</td>\n",
       "    </tr>\n",
       "    <tr>\n",
       "      <th>12554</th>\n",
       "      <td>7.0</td>\n",
       "      <td>1.0</td>\n",
       "      <td>1.0</td>\n",
       "      <td>5.0</td>\n",
       "      <td>2.0</td>\n",
       "      <td>1.0</td>\n",
       "      <td>0.0</td>\n",
       "      <td>0.0</td>\n",
       "      <td>1.0</td>\n",
       "      <td>0.0</td>\n",
       "      <td>...</td>\n",
       "      <td>2012.0</td>\n",
       "      <td>4.0</td>\n",
       "      <td>3.0</td>\n",
       "      <td>2.0</td>\n",
       "      <td>10.0</td>\n",
       "      <td>30.0</td>\n",
       "      <td>43.663245</td>\n",
       "      <td>-79.367590</td>\n",
       "      <td>28.0</td>\n",
       "      <td>73.0</td>\n",
       "    </tr>\n",
       "    <tr>\n",
       "      <th>12555</th>\n",
       "      <td>7.0</td>\n",
       "      <td>1.0</td>\n",
       "      <td>1.0</td>\n",
       "      <td>6.0</td>\n",
       "      <td>0.0</td>\n",
       "      <td>0.0</td>\n",
       "      <td>0.0</td>\n",
       "      <td>1.0</td>\n",
       "      <td>0.0</td>\n",
       "      <td>0.0</td>\n",
       "      <td>...</td>\n",
       "      <td>2016.0</td>\n",
       "      <td>5.0</td>\n",
       "      <td>7.0</td>\n",
       "      <td>2.0</td>\n",
       "      <td>9.0</td>\n",
       "      <td>30.0</td>\n",
       "      <td>43.645874</td>\n",
       "      <td>-79.363430</td>\n",
       "      <td>28.0</td>\n",
       "      <td>77.0</td>\n",
       "    </tr>\n",
       "    <tr>\n",
       "      <th>12556</th>\n",
       "      <td>7.0</td>\n",
       "      <td>1.0</td>\n",
       "      <td>1.0</td>\n",
       "      <td>5.0</td>\n",
       "      <td>1.0</td>\n",
       "      <td>0.0</td>\n",
       "      <td>0.0</td>\n",
       "      <td>1.0</td>\n",
       "      <td>0.0</td>\n",
       "      <td>0.0</td>\n",
       "      <td>...</td>\n",
       "      <td>2016.0</td>\n",
       "      <td>5.0</td>\n",
       "      <td>7.0</td>\n",
       "      <td>2.0</td>\n",
       "      <td>9.0</td>\n",
       "      <td>30.0</td>\n",
       "      <td>43.645874</td>\n",
       "      <td>-79.363430</td>\n",
       "      <td>28.0</td>\n",
       "      <td>77.0</td>\n",
       "    </tr>\n",
       "  </tbody>\n",
       "</table>\n",
       "<p>12557 rows × 43 columns</p>\n",
       "</div>"
      ],
      "text/plain": [
       "        0    1    2     3    4    5    6    7    8    9   ...      33   34  \\\n",
       "0      5.0  1.0  1.0  10.0  4.0  1.0  0.0  0.0  0.0  0.0  ...  2011.0  3.0   \n",
       "1      5.0  1.0  1.0   4.0  2.0  1.0  0.0  1.0  0.0  0.0  ...  2012.0  6.0   \n",
       "2      5.0  1.0  1.0  12.0  0.0  1.0  0.0  1.0  0.0  0.0  ...  2015.0  2.0   \n",
       "3      5.0  1.0  1.0  20.0  5.0  1.0  0.0  1.0  0.0  0.0  ...  2012.0  6.0   \n",
       "4      5.0  1.0  1.0  12.0  4.0  1.0  0.0  1.0  0.0  0.0  ...  2012.0  6.0   \n",
       "...    ...  ...  ...   ...  ...  ...  ...  ...  ...  ...  ...     ...  ...   \n",
       "12552  7.0  1.0  1.0   8.0  1.0  1.0  0.0  0.0  1.0  0.0  ...  2012.0  4.0   \n",
       "12553  7.0  1.0  1.0  20.0  4.0  1.0  0.0  0.0  1.0  0.0  ...  2012.0  4.0   \n",
       "12554  7.0  1.0  1.0   5.0  2.0  1.0  0.0  0.0  1.0  0.0  ...  2012.0  4.0   \n",
       "12555  7.0  1.0  1.0   6.0  0.0  0.0  0.0  1.0  0.0  0.0  ...  2016.0  5.0   \n",
       "12556  7.0  1.0  1.0   5.0  1.0  0.0  0.0  1.0  0.0  0.0  ...  2016.0  5.0   \n",
       "\n",
       "         35    36    37    38         39         40    41     42  \n",
       "0       8.0   4.0   9.0  30.0  43.651545 -79.383490  27.0   76.0  \n",
       "1       8.0  19.0   9.0  30.0  43.780445 -79.300490  40.0  118.0  \n",
       "2      12.0  30.0  10.0  30.0  43.682342 -79.328266  30.0   65.0  \n",
       "3       8.0  19.0   9.0  30.0  43.780445 -79.300490  40.0  118.0  \n",
       "4       8.0  19.0   9.0  30.0  43.780445 -79.300490  40.0  118.0  \n",
       "...     ...   ...   ...   ...        ...        ...   ...    ...  \n",
       "12552   3.0   2.0  10.0  30.0  43.663245 -79.367590  28.0   73.0  \n",
       "12553   3.0   2.0  10.0  30.0  43.663245 -79.367590  28.0   73.0  \n",
       "12554   3.0   2.0  10.0  30.0  43.663245 -79.367590  28.0   73.0  \n",
       "12555   7.0   2.0   9.0  30.0  43.645874 -79.363430  28.0   77.0  \n",
       "12556   7.0   2.0   9.0  30.0  43.645874 -79.363430  28.0   77.0  \n",
       "\n",
       "[12557 rows x 43 columns]"
      ]
     },
     "execution_count": 17,
     "metadata": {},
     "output_type": "execute_result"
    }
   ],
   "source": [
    "X"
   ]
  },
  {
   "cell_type": "code",
   "execution_count": 18,
   "metadata": {},
   "outputs": [
    {
     "data": {
      "text/plain": [
       "array([1, 1, 0, ..., 1, 0, 0])"
      ]
     },
     "execution_count": 18,
     "metadata": {},
     "output_type": "execute_result"
    }
   ],
   "source": [
    "y"
   ]
  },
  {
   "cell_type": "markdown",
   "metadata": {},
   "source": [
    "#### Splitting the data into training and test sets"
   ]
  },
  {
   "cell_type": "code",
   "execution_count": 19,
   "metadata": {},
   "outputs": [],
   "source": [
    "from sklearn.model_selection import train_test_split\n",
    "\n",
    "X_train, X_test, y_train, y_test= train_test_split(X,y,test_size= 0.25)"
   ]
  },
  {
   "cell_type": "markdown",
   "metadata": {},
   "source": [
    "#### Feature Scaling"
   ]
  },
  {
   "cell_type": "code",
   "execution_count": 20,
   "metadata": {},
   "outputs": [],
   "source": [
    "from sklearn.preprocessing import StandardScaler\n",
    "\n",
    "sc= StandardScaler()\n",
    "X_train= sc.fit_transform(X_train)\n",
    "X_test= sc.transform(X_test)"
   ]
  },
  {
   "cell_type": "markdown",
   "metadata": {},
   "source": [
    "## Training on different classification models"
   ]
  },
  {
   "cell_type": "markdown",
   "metadata": {},
   "source": [
    "### Logistic Regression"
   ]
  },
  {
   "cell_type": "code",
   "execution_count": 21,
   "metadata": {},
   "outputs": [
    {
     "data": {
      "text/plain": [
       "LogisticRegression(max_iter=500, random_state=0)"
      ]
     },
     "execution_count": 21,
     "metadata": {},
     "output_type": "execute_result"
    }
   ],
   "source": [
    "from sklearn.linear_model import LogisticRegression\n",
    "from sklearn.metrics import accuracy_score, confusion_matrix\n",
    "\n",
    "class_ls= LogisticRegression(random_state= 0, max_iter= 500)\n",
    "class_ls.fit(X_train,y_train)"
   ]
  },
  {
   "cell_type": "markdown",
   "metadata": {},
   "source": [
    "#### Prediction on testing set"
   ]
  },
  {
   "cell_type": "code",
   "execution_count": 22,
   "metadata": {},
   "outputs": [],
   "source": [
    "y_pred_lr= class_ls.predict(X_test)"
   ]
  },
  {
   "cell_type": "code",
   "execution_count": 23,
   "metadata": {
    "scrolled": true
   },
   "outputs": [
    {
     "name": "stdout",
     "output_type": "stream",
     "text": [
      "[[  12  442    0]\n",
      " [  13 2669    2]\n",
      " [   0    1    1]]\n",
      "0.8541401273885351\n"
     ]
    },
    {
     "data": {
      "text/plain": [
       "(None, None)"
      ]
     },
     "execution_count": 23,
     "metadata": {},
     "output_type": "execute_result"
    }
   ],
   "source": [
    "cm_lr= confusion_matrix(y_test,y_pred_lr) #confusion matrix\n",
    "lr_acc= accuracy_score(y_test,y_pred_lr) #accuracy score\n",
    "print(cm_lr), print(lr_acc)"
   ]
  },
  {
   "cell_type": "markdown",
   "metadata": {},
   "source": [
    "### Naive Bayes"
   ]
  },
  {
   "cell_type": "code",
   "execution_count": 24,
   "metadata": {},
   "outputs": [
    {
     "data": {
      "text/plain": [
       "GaussianNB()"
      ]
     },
     "execution_count": 24,
     "metadata": {},
     "output_type": "execute_result"
    }
   ],
   "source": [
    "from sklearn.naive_bayes import GaussianNB\n",
    "\n",
    "class_nb= GaussianNB()\n",
    "class_nb.fit(X_train,y_train)"
   ]
  },
  {
   "cell_type": "markdown",
   "metadata": {},
   "source": [
    "#### Predicting on testing set"
   ]
  },
  {
   "cell_type": "code",
   "execution_count": 25,
   "metadata": {},
   "outputs": [],
   "source": [
    "y_pred_nb= class_nb.predict(X_test)"
   ]
  },
  {
   "cell_type": "code",
   "execution_count": 26,
   "metadata": {},
   "outputs": [
    {
     "name": "stdout",
     "output_type": "stream",
     "text": [
      "[[ 388    4   62]\n",
      " [2090   82  512]\n",
      " [   0    0    2]]\n",
      "0.1503184713375796\n"
     ]
    },
    {
     "data": {
      "text/plain": [
       "(None, None)"
      ]
     },
     "execution_count": 26,
     "metadata": {},
     "output_type": "execute_result"
    }
   ],
   "source": [
    "cm_nb= confusion_matrix(y_test,y_pred_nb) #confusion matrix\n",
    "nb_acc= accuracy_score(y_test,y_pred_nb) #accuracy score\n",
    "print(cm_nb), print(nb_acc)"
   ]
  },
  {
   "cell_type": "markdown",
   "metadata": {},
   "source": [
    "### SVM"
   ]
  },
  {
   "cell_type": "code",
   "execution_count": 27,
   "metadata": {},
   "outputs": [
    {
     "data": {
      "text/plain": [
       "SVC()"
      ]
     },
     "execution_count": 27,
     "metadata": {},
     "output_type": "execute_result"
    }
   ],
   "source": [
    "from sklearn.svm import SVC\n",
    "\n",
    "class_svc= SVC(kernel='rbf')\n",
    "class_svc.fit(X_train,y_train)"
   ]
  },
  {
   "cell_type": "markdown",
   "metadata": {},
   "source": [
    "#### Predicting on testing set"
   ]
  },
  {
   "cell_type": "code",
   "execution_count": 28,
   "metadata": {},
   "outputs": [],
   "source": [
    "y_pred_svc= class_svc.predict(X_test)"
   ]
  },
  {
   "cell_type": "code",
   "execution_count": 29,
   "metadata": {},
   "outputs": [
    {
     "name": "stdout",
     "output_type": "stream",
     "text": [
      "[[  44  410    0]\n",
      " [   1 2683    0]\n",
      " [   0    1    1]]\n",
      "0.8687898089171975\n"
     ]
    },
    {
     "data": {
      "text/plain": [
       "(None, None)"
      ]
     },
     "execution_count": 29,
     "metadata": {},
     "output_type": "execute_result"
    }
   ],
   "source": [
    "cm_svc= confusion_matrix(y_test,y_pred_svc) #confusion matrix\n",
    "svc_acc= accuracy_score(y_test,y_pred_svc) #accuracy score\n",
    "print(cm_svc), print(svc_acc)"
   ]
  },
  {
   "cell_type": "markdown",
   "metadata": {},
   "source": [
    "### Decision Tree"
   ]
  },
  {
   "cell_type": "code",
   "execution_count": 30,
   "metadata": {},
   "outputs": [
    {
     "data": {
      "text/plain": [
       "DecisionTreeClassifier(criterion='entropy', random_state=0)"
      ]
     },
     "execution_count": 30,
     "metadata": {},
     "output_type": "execute_result"
    }
   ],
   "source": [
    "from sklearn.tree import DecisionTreeClassifier\n",
    "\n",
    "class_dt= DecisionTreeClassifier(criterion= 'entropy', random_state= 0)\n",
    "class_dt.fit(X_train,y_train)"
   ]
  },
  {
   "cell_type": "markdown",
   "metadata": {},
   "source": [
    "#### Predicting on testing set"
   ]
  },
  {
   "cell_type": "code",
   "execution_count": 31,
   "metadata": {},
   "outputs": [],
   "source": [
    "y_pred_dt= class_dt.predict(X_test)"
   ]
  },
  {
   "cell_type": "code",
   "execution_count": 32,
   "metadata": {},
   "outputs": [
    {
     "name": "stdout",
     "output_type": "stream",
     "text": [
      "[[ 343  111    0]\n",
      " [ 120 2563    1]\n",
      " [   0    1    1]]\n",
      "0.925796178343949\n"
     ]
    },
    {
     "data": {
      "text/plain": [
       "(None, None)"
      ]
     },
     "execution_count": 32,
     "metadata": {},
     "output_type": "execute_result"
    }
   ],
   "source": [
    "cm_dt= confusion_matrix(y_test,y_pred_dt) #confusion matrix\n",
    "dt_acc= accuracy_score(y_test,y_pred_dt) #accuracy score\n",
    "print(cm_dt), print(dt_acc)"
   ]
  },
  {
   "cell_type": "markdown",
   "metadata": {},
   "source": [
    "### Random Forest"
   ]
  },
  {
   "cell_type": "code",
   "execution_count": 33,
   "metadata": {},
   "outputs": [
    {
     "data": {
      "text/plain": [
       "RandomForestClassifier(criterion='entropy', random_state=0)"
      ]
     },
     "execution_count": 33,
     "metadata": {},
     "output_type": "execute_result"
    }
   ],
   "source": [
    "from sklearn.ensemble import RandomForestClassifier\n",
    "\n",
    "class_rf= RandomForestClassifier(n_estimators= 100, criterion= 'entropy', random_state= 0)\n",
    "class_rf.fit(X_train,y_train)"
   ]
  },
  {
   "cell_type": "markdown",
   "metadata": {},
   "source": [
    "#### Predicting on testing set"
   ]
  },
  {
   "cell_type": "code",
   "execution_count": 34,
   "metadata": {},
   "outputs": [],
   "source": [
    "y_pred_rf= class_rf.predict(X_test)"
   ]
  },
  {
   "cell_type": "code",
   "execution_count": 35,
   "metadata": {},
   "outputs": [
    {
     "name": "stdout",
     "output_type": "stream",
     "text": [
      "[[ 287  167    0]\n",
      " [   0 2684    0]\n",
      " [   0    0    2]]\n",
      "0.9468152866242038\n"
     ]
    },
    {
     "data": {
      "text/plain": [
       "(None, None)"
      ]
     },
     "execution_count": 35,
     "metadata": {},
     "output_type": "execute_result"
    }
   ],
   "source": [
    "cm_rf= confusion_matrix(y_test,y_pred_rf) #confusion matrix\n",
    "rf_acc= accuracy_score(y_test,y_pred_rf) #accuracy score\n",
    "print(cm_rf), print(rf_acc)"
   ]
  },
  {
   "cell_type": "markdown",
   "metadata": {},
   "source": [
    "### K-NN  "
   ]
  },
  {
   "cell_type": "code",
   "execution_count": 36,
   "metadata": {},
   "outputs": [
    {
     "data": {
      "text/plain": [
       "KNeighborsClassifier()"
      ]
     },
     "execution_count": 36,
     "metadata": {},
     "output_type": "execute_result"
    }
   ],
   "source": [
    "from sklearn.neighbors import KNeighborsClassifier\n",
    "\n",
    "class_knn= KNeighborsClassifier(n_neighbors= 5,metric= 'minkowski',p= 2) #default param values,\n",
    "class_knn.fit(X_train,y_train)                                           #included for clarity."
   ]
  },
  {
   "cell_type": "markdown",
   "metadata": {},
   "source": [
    "#### Predicting on testing set"
   ]
  },
  {
   "cell_type": "code",
   "execution_count": 37,
   "metadata": {},
   "outputs": [],
   "source": [
    "y_pred_knn= class_knn.predict(X_test)"
   ]
  },
  {
   "cell_type": "code",
   "execution_count": 38,
   "metadata": {},
   "outputs": [
    {
     "name": "stdout",
     "output_type": "stream",
     "text": [
      "[[ 122  332    0]\n",
      " [  62 2622    0]\n",
      " [   0    1    1]]\n",
      "0.8742038216560509\n"
     ]
    },
    {
     "data": {
      "text/plain": [
       "(None, None)"
      ]
     },
     "execution_count": 38,
     "metadata": {},
     "output_type": "execute_result"
    }
   ],
   "source": [
    "cm_knn= confusion_matrix(y_test,y_pred_knn) #confusion matrix\n",
    "knn_acc= accuracy_score(y_test,y_pred_knn) #accuracy score\n",
    "print(cm_knn), print(knn_acc)"
   ]
  },
  {
   "cell_type": "markdown",
   "metadata": {},
   "source": [
    "## Comparing different models "
   ]
  },
  {
   "cell_type": "code",
   "execution_count": 39,
   "metadata": {},
   "outputs": [],
   "source": [
    "import matplotlib.pyplot as plt\n",
    "\n",
    "accuracy_scores= [lr_acc, nb_acc, dt_acc, rf_acc, svc_acc, knn_acc]\n",
    "algo= ['Logistic Regression','Naive Bayes','Decision Tree','Random Forest',\n",
    "       'Support Vector Classification', 'K-Nearest Neighbors']"
   ]
  },
  {
   "cell_type": "code",
   "execution_count": 40,
   "metadata": {},
   "outputs": [
    {
     "data": {
      "text/plain": [
       "Text(0.5, 0, 'Accuracy Score')"
      ]
     },
     "execution_count": 40,
     "metadata": {},
     "output_type": "execute_result"
    },
    {
     "data": {
      "image/png": "[encoded data removed]",
      "text/plain": [
       "<Figure size 432x288 with 1 Axes>"
      ]
     },
     "metadata": {
      "needs_background": "light"
     },
     "output_type": "display_data"
    }
   ],
   "source": [
    "fig= plt.figure()\n",
    "ax= fig.add_axes([0,0,1,1])\n",
    "ax.barh(algo,accuracy_scores)\n",
    "ax.set_title('Comparing different Classification Algorithms (Accuracy scores)')\n",
    "ax.set_xlabel('Accuracy Score')"
   ]
  },
  {
   "cell_type": "markdown",
   "metadata": {},
   "source": [
    "## Cross Validation Score"
   ]
  },
  {
   "cell_type": "code",
   "execution_count": 41,
   "metadata": {},
   "outputs": [
    {
     "data": {
      "text/plain": [
       "Text(0.5, 0, 'Cross Val Accuracies')"
      ]
     },
     "execution_count": 41,
     "metadata": {},
     "output_type": "execute_result"
    },
    {
     "data": {
      "image/png": "[encoded data removed]",
      "text/plain": [
       "<Figure size 432x288 with 1 Axes>"
      ]
     },
     "metadata": {
      "needs_background": "light"
     },
     "output_type": "display_data"
    }
   ],
   "source": [
    "from sklearn.model_selection import cross_val_score\n",
    "\n",
    "acc_lr= cross_val_score(estimator= class_ls, X= X_train, y= y_train, cv= 10)\n",
    "acc_nb= cross_val_score(estimator= class_nb, X= X_train, y= y_train, cv= 10)\n",
    "acc_dt= cross_val_score(estimator= class_dt, X= X_train, y= y_train, cv= 10)\n",
    "acc_rf= cross_val_score(estimator= class_rf, X= X_train, y= y_train, cv= 10)\n",
    "acc_knn= cross_val_score(estimator= class_knn, X= X_train, y= y_train, cv= 10)\n",
    "acc_svc= cross_val_score(estimator= class_svc, X= X_train, y= y_train, cv= 10)\n",
    "\n",
    "acc_scores= [\n",
    "    acc_lr.mean(),acc_nb.mean(),acc_dt.mean(),acc_rf.mean(),acc_svc.mean(),acc_knn.mean()]\n",
    "\n",
    "\n",
    "fig2= plt.figure()\n",
    "ax2= fig2.add_axes([0,0,1,1])\n",
    "ax2.barh(algo,accuracy_scores)\n",
    "ax2.set_title('Comparing different Classification Algorithms (Cross val score)')\n",
    "ax2.set_xlabel('Cross Val Accuracies')"
   ]
  },
  {
   "cell_type": "code",
   "execution_count": 43,
   "metadata": {},
   "outputs": [
    {
     "name": "stdout",
     "output_type": "stream",
     "text": [
      "\n",
      "          Logistic Regression:86.726096599588\n",
      "          Naive Bayes:14.24018131318943 \n",
      "          Decision Tree:92.120773175756 \n",
      "          Random Forest:95.03023390664943 \n",
      "          Support Vector Classification:87.59687823632535 \n",
      "          K-Nearest Neighbors:88.170284582287\n"
     ]
    }
   ],
   "source": [
    "print(f'''\n",
    "          Logistic Regression:{acc_lr.mean()*100}\n",
    "          Naive Bayes:{acc_nb.mean()*100} \n",
    "          Decision Tree:{acc_dt.mean()*100} \n",
    "          Random Forest:{acc_rf.mean()*100} \n",
    "          Support Vector Classification:{acc_svc.mean()*100} \n",
    "          K-Nearest Neighbors:{acc_knn.mean()*100}''')"
   ]
  },
  {
   "cell_type": "markdown",
   "metadata": {},
   "source": [
    "Clearly, Random Forest algorithm is the best choice here. RF models are prone to overfitting but as the test set was completely different than the trainig set we can safely assume that no overfitting occured. The model can be tweaked further (number of trees) for even more accurate predictions. "
   ]
  },
  {
   "cell_type": "code",
   "execution_count": null,
   "metadata": {},
   "outputs": [],
   "source": []
  }
 ],
 "metadata": {
  "kernelspec": {
   "display_name": "Python 3",
   "language": "python",
   "name": "python3"
  },
  "language_info": {
   "codemirror_mode": {
    "name": "ipython",
    "version": 3
   },
   "file_extension": ".py",
   "mimetype": "text/x-python",
   "name": "python",
   "nbconvert_exporter": "python",
   "pygments_lexer": "ipython3",
   "version": "3.7.6"
  }
 },
 "nbformat": 4,
 "nbformat_minor": 4
}
